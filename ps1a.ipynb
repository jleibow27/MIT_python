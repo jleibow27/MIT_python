{
 "cells": [
  {
   "cell_type": "code",
   "execution_count": 2,
   "metadata": {},
   "outputs": [],
   "source": [
    "import numpy as np"
   ]
  },
  {
   "cell_type": "code",
   "execution_count": 2,
   "metadata": {},
   "outputs": [],
   "source": [
    "# Variables for house hunting \n",
    "# total_cost = 10000000\n",
    "# portion_down_payment = 0.25\n",
    "# current_savings = 0\n",
    "# r = 0.04 \n",
    "# annual_return = current_savings*r/12\n",
    "# annual_salary = 65000\n",
    "# monthly_salary = annual_salary / 12\n",
    "# portion_saved = 0.1"
   ]
  },
  {
   "cell_type": "code",
   "execution_count": null,
   "metadata": {},
   "outputs": [],
   "source": []
  },
  {
   "cell_type": "code",
   "execution_count": 1,
   "metadata": {},
   "outputs": [
    {
     "name": "stdin",
     "output_type": "stream",
     "text": [
      "Enter your annual salary:  120000\n",
      "Enter the percent of your salary to save, as a decimal:  0.1\n",
      "Enter the cost of your dream home:  1000000\n"
     ]
    },
    {
     "name": "stdout",
     "output_type": "stream",
     "text": [
      "Number of Months: 183\n"
     ]
    }
   ],
   "source": [
    "# Test Case 1\n",
    "annual_salary = float(input('Enter your annual salary: '))\n",
    "monthly_salary = annual_salary / 12\n",
    "\n",
    "current_savings = 0\n",
    "r = 0.04 \n",
    "monthly_investment_return = current_savings*r/12\n",
    "\n",
    "for i in range(0, 86):\n",
    "    monthly_investment_return += i\n",
    "# print(monthly_investment_return)\n",
    "\n",
    "monthly_income = monthly_salary + monthly_investment_return\n",
    "\n",
    "percent_salary_to_save = float(input('Enter the percent of your salary to save, as a decimal: '))\n",
    "total_cost = float(input('Enter the cost of your dream home: '))\n",
    "portion_down_payment = 0.25\n",
    "increments = (monthly_income * percent_salary_to_save)\n",
    "\n",
    "total_down_payment = total_cost * 0.25\n",
    "number_of_months = total_down_payment / increments\n",
    "print(\"Number of Months:\", int(number_of_months))"
   ]
  },
  {
   "cell_type": "code",
   "execution_count": 32,
   "metadata": {},
   "outputs": [
    {
     "name": "stdin",
     "output_type": "stream",
     "text": [
      "Enter your annual salary:  80000\n",
      "Enter the percent of your salary to save, as a decimal:  0.15\n",
      "Enter the cost of your dream home:  500000\n"
     ]
    },
    {
     "name": "stdout",
     "output_type": "stream",
     "text": [
      "Number of Months: 105\n"
     ]
    }
   ],
   "source": [
    "# Test Case 2\n",
    "annual_salary = float(input('Enter your annual salary: '))\n",
    "monthly_salary = annual_salary / 12\n",
    "\n",
    "current_savings = 0\n",
    "r = 0.04 \n",
    "monthly_investment_return = current_savings*r/12\n",
    "\n",
    "for i in range(0, 50):\n",
    "    monthly_investment_return += i\n",
    "# print(monthly_investment_return)\n",
    "\n",
    "monthly_income = monthly_salary + monthly_investment_return\n",
    "\n",
    "percent_salary_to_save = float(input('Enter the percent of your salary to save, as a decimal: '))\n",
    "total_cost = float(input('Enter the cost of your dream home: '))\n",
    "portion_down_payment = 0.25\n",
    "increments = (monthly_income * percent_salary_to_save)\n",
    "\n",
    "total_down_payment = total_cost * 0.25\n",
    "number_of_months = total_down_payment / increments\n",
    "print(\"Number of Months:\", int(number_of_months))"
   ]
  },
  {
   "cell_type": "code",
   "execution_count": 3,
   "metadata": {},
   "outputs": [],
   "source": [
    "## completed Test Case 1"
   ]
  },
  {
   "cell_type": "code",
   "execution_count": null,
   "metadata": {},
   "outputs": [],
   "source": []
  }
 ],
 "metadata": {
  "kernelspec": {
   "display_name": "Python 3",
   "language": "python",
   "name": "python3"
  },
  "language_info": {
   "codemirror_mode": {
    "name": "ipython",
    "version": 3
   },
   "file_extension": ".py",
   "mimetype": "text/x-python",
   "name": "python",
   "nbconvert_exporter": "python",
   "pygments_lexer": "ipython3",
   "version": "3.7.4"
  }
 },
 "nbformat": 4,
 "nbformat_minor": 4
}
