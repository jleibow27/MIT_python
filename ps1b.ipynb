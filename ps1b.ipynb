{
 "cells": [
  {
   "cell_type": "markdown",
   "metadata": {},
   "source": [
    "## Part B"
   ]
  },
  {
   "cell_type": "code",
   "execution_count": 1,
   "metadata": {},
   "outputs": [],
   "source": [
    "import numpy as np"
   ]
  },
  {
   "cell_type": "code",
   "execution_count": null,
   "metadata": {},
   "outputs": [],
   "source": [
    "# Test Case 1\n",
    "\n",
    "#salary variables\n",
    "annual_salary = float(input('Enter your annual salary: '))\n",
    "monthly_salary = annual_salary / 12\n",
    "\n",
    "# savings and return on investmnet variables\n",
    "current_savings = 0\n",
    "r = 0.04 \n",
    "monthly_investment_return = current_savings*r/12\n",
    "\n",
    "# monthly returns in range function\n",
    "for i in range(0, 86):\n",
    "    monthly_investment_return += i\n",
    "\n",
    "# monthly income\n",
    "monthly_income = monthly_salary + monthly_investment_return\n",
    "\n",
    "percent_salary_to_save = float(input('Enter the percent of your salary to save, as a decimal: '))\n",
    "total_cost = float(input('Enter the cost of your dream home: '))\n",
    "portion_down_payment = 0.25\n",
    "increments = (monthly_income * percent_salary_to_save)\n",
    "\n",
    "# raise in salary every 6 months\n",
    "semi_annual_raise = float(input('Enter the semi annual raise, as a decimal: '))\n",
    "updated_monthly_salary = (semi_annual_raise * monthly_salary) + monthly_salary\n",
    "#monthly_salary = updated_monthly_salary\n",
    "\n",
    "for i in range(0, 18, 6):\n",
    "    updated_monthly_salary += i\n",
    "\n",
    "total_down_payment = total_cost * 0.25\n",
    "number_of_months = total_down_payment / increments\n",
    "print(\"Number of Months:\", int(number_of_months))"
   ]
  },
  {
   "cell_type": "code",
   "execution_count": null,
   "metadata": {},
   "outputs": [],
   "source": []
  },
  {
   "cell_type": "code",
   "execution_count": null,
   "metadata": {},
   "outputs": [],
   "source": []
  }
 ],
 "metadata": {
  "kernelspec": {
   "display_name": "Python 3",
   "language": "python",
   "name": "python3"
  },
  "language_info": {
   "codemirror_mode": {
    "name": "ipython",
    "version": 3
   },
   "file_extension": ".py",
   "mimetype": "text/x-python",
   "name": "python",
   "nbconvert_exporter": "python",
   "pygments_lexer": "ipython3",
   "version": "3.7.4"
  }
 },
 "nbformat": 4,
 "nbformat_minor": 4
}
